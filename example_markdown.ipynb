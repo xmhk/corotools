{
 "cells": [
  {
   "cell_type": "code",
   "execution_count": null,
   "metadata": {},
   "outputs": [],
   "source": [
    "import numpy as np\n",
    "from matplotlib import pyplot as plt\n",
    "%matplotlib inline\n",
    "import datetime as dt\n",
    "from matplotlib import dates as mdates\n",
    "import matplotlib\n",
    "import pandas as pd\n",
    "import corotools as ct\n",
    "from IPython.display import display, Markdown\n",
    "from tabulate import tabulate\n",
    "import os\n",
    "\n",
    "geopandasplot = True\n",
    "\n",
    "# use geopandas to plot colored maps. geopandas, cartopy\n",
    "# and suitable shape file (see below) have to be present\n",
    "try:\n",
    "    import geopandas\n",
    "    import cartopy.crs as ccrs\n",
    "    from mpl_toolkits.axes_grid1 import make_axes_locatable  # needs to be able to split colorba\n",
    "except:\n",
    "    print('Problems loading geopandas or cartopy')\n",
    "    geopandasplot = False\n",
    "\n",
    "population_file = os.environ['COVID19_SCRIPT_POPFILE']\n",
    "jhu_data_dir = os.environ['COVID19_JHU_DIR']\n",
    "datadir = os.environ['MYDATADIR']\n",
    "\n",
    "import warnings\n",
    "warnings.filterwarnings('ignore')"
   ]
  },
  {
   "cell_type": "code",
   "execution_count": null,
   "metadata": {
    "scrolled": false
   },
   "outputs": [],
   "source": [
    "# some settings\n",
    "tablesmininf=5000   # disregard countries with less cases for tables\n",
    "plotsw = False   # plot weekly stats for countries?\n",
    "plotswcont = True # plot weekly stats for continents?\n",
    "tablesnum = 20 # number of entries for tables\n"
   ]
  },
  {
   "cell_type": "code",
   "execution_count": null,
   "metadata": {},
   "outputs": [],
   "source": [
    "pops = ct.get_populations('~/Daten/worldpop.csv')\n",
    "MDlist = ct.get_jhu_data(datadir = jhu_data_dir)\n",
    "Md = MDlist[0].copy()\n",
    "lastday = dt.datetime(*[int(x) for x in Md['US'][-1,0:3]])\n",
    "lastdayasstr = lastday.strftime(\"%a, %d.%m.%Y\")\n",
    "\n",
    "metat = ct.get_metatable(MDlist, pops, [x for x in Md.keys()], ignore_list=ct.list_continents)\n",
    "mt, mt2, mt4 = ct.get_metatable124(MDlist, pops, [x for x in Md.keys()], ignore_list=ct.list_continents)\n",
    "speciallist = []#['World','North America','South America','Europe','Asia','Africa']\n",
    "speciallist.sort()\n",
    "speciallist.append('Austria')\n",
    "speciallist.append('Belgium')\n",
    "speciallist.append('Czechia')\n",
    "speciallist.append('Denmark')\n",
    "speciallist.append('France')\n",
    "speciallist.append('Germany')\n",
    "speciallist.append('Netherlands')\n",
    "speciallist.append('Poland')\n",
    "speciallist.append('Sweden')\n",
    "speciallist.append('Switzerland')"
   ]
  },
  {
   "cell_type": "code",
   "execution_count": null,
   "metadata": {},
   "outputs": [],
   "source": [
    "if geopandasplot:    \n",
    "    # use a proper good shape file, e.g. from https://www.naturalearthdata.com\n",
    "    try:\n",
    "        world = geopandas.read_file(datadir+'maps/naturalearth/ne_10m_admin_0_countries.shp')\n",
    "        # fix some bugs in naturalearth table: missing ISO3 codes\n",
    "        world.loc[world['NAME'] == 'France', 'ISO_A3'] = 'FRA'\n",
    "        world.loc[world['NAME'] == 'Norway', 'ISO_A3'] = 'NOR'\n",
    "        world.loc[world['NAME'] == 'Somaliland', 'ISO_A3'] = 'SOM'\n",
    "        world.loc[world['NAME'] == 'Kosovo', 'ISO_A3'] = 'RKS'\n",
    "    except:\n",
    "        print('problem reading shape file')\n",
    "        geopandasplot=False\n",
    "        \n",
    "    contxylim = {'europe':[-22,40,35,70],\n",
    "            'asia':[25,150,-20,60],\n",
    "            'africa':[-25,55,-40,40],\n",
    "            'north america':[-130,-60,5,60],\n",
    "            'south america':[-90,-30,-60,15],\n",
    "            'oceania':[100,180,-50,10],}\n"
   ]
  },
  {
   "cell_type": "markdown",
   "metadata": {},
   "source": [
    "sources for data:\n",
    "* Johns-Hopkins-University [JHU github](https://github.com/CSSEGISandData/COVID-19)\n",
    "* [worldometers](https://www.worldometers.info) (populations)\n",
    "\n",
    "remarks:\n",
    "* due to strong daily fluctuations, my stats concentrate on weekly numbers/changes\n",
    "* some numbers from JHU are different to 'officially' reported ones (e.g. France) - take it with a grain of salt\n",
    "\n",
    "scripts for evaluation this data and creating this page:\n",
    "\n",
    "* [xmhk/corotools](https://github.com/xmhk/corotools)"
   ]
  },
  {
   "cell_type": "code",
   "execution_count": null,
   "metadata": {},
   "outputs": [],
   "source": [
    "\n",
    "def shortstat(mt, key, mininf=2000, factor = 1):\n",
    "    x = mt[mt['cases']>mininf][key].to_numpy() * factor\n",
    "    \n",
    "    return np.array([np.median(x), np.mean(x), np.max(x)])\n",
    "\n",
    "M = np.zeros((3,4))\n",
    "M[:,0] = shortstat(mt, 'cases_perpop', factor=1000)\n",
    "M[:,1] = shortstat(mt, 'cases_delta_perpop', factor=1e6)\n",
    "M[:,2] = shortstat(mt, 'dead_perpop', factor=1e6)\n",
    "M[:,3] = shortstat(mt, 'dead_delta_perpop', factor=1e6)\n",
    "\n",
    "t = tabulate([['median',*M[0,:]],\n",
    "               ['mean', *M[1,:]],\n",
    "              ['max',*M[2,:]]], headers = ['cases /1k', 'dcases /1m', 'dead /1m', 'ddead /1m'],\n",
    "             floatfmt='.1f',\n",
    "            tablefmt='github')\n",
    "display(Markdown('## tables: general cases info for countries > %.0f cases '%tablesmininf))\n",
    "display(Markdown(t))"
   ]
  },
  {
   "cell_type": "markdown",
   "metadata": {},
   "source": [
    "# tables: cases"
   ]
  },
  {
   "cell_type": "markdown",
   "metadata": {},
   "source": [
    "remarks:\n",
    "* 1st column: rank (-2 weeks, -4 weeks)\n",
    "* **c(k)**: total cases (in thousands)\n",
    "* **dc(k)**: last weeks increase in cases (in thousands)\n",
    "* **c /1k**: total cases per population (per thousand)\n",
    "* **dc /1m**: last weeks increase of cases per population (per million)\n",
    "* **r(%)**: ratechange - relative change of new cases last week vs. the week before\n",
    "\n"
   ]
  },
  {
   "cell_type": "code",
   "execution_count": null,
   "metadata": {},
   "outputs": [],
   "source": [
    "allkeys=[]\n",
    "display(Markdown(\"remark: countries which had below %.0f cases two weeks ago are ranked at 200\"%tablesmininf))\n"
   ]
  },
  {
   "cell_type": "code",
   "execution_count": null,
   "metadata": {
    "scrolled": false
   },
   "outputs": [],
   "source": [
    "cases_table = lambda sk :  ct.get_rank_table_from_df2(\n",
    "        mt, mt2, mt4, sk,\n",
    "        ['cases', 'cases_delta','cases_perpop', 'cases_delta_perpop', 'cases_ratechange'], \n",
    "        [1/1000,1/1000,1e3, 1e6,100],\n",
    "        columnalias=['c(k)','dc(k)','c /1k', 'dc /1m', 'r(%)'],\n",
    "         ascending=False, mininf=tablesmininf,\n",
    "         num=tablesnum)\n",
    "\n",
    "#for sk in ['cases', 'cases_delta', 'cases_perpop','cases_delta_perpop', 'cases_ratechange']:\n",
    "for sk in ['cases_perpop','cases_delta_perpop', 'cases_ratechange']:\n",
    "    display(Markdown(\"## %s week ending %s\"%(sk,lastdayasstr)))\n",
    "    if sk == 'cases':\n",
    "        display(Markdown(\"remark: countries which had below %.0f cases two weeks ago are ranked at 200\"%tablesmininf))\n",
    "    display(Markdown(cases_table(sk)))\n",
    "    ll = ct.sort_df_and_get_keys(mt[mt['cases']>tablesmininf],sk,num=tablesnum)\n",
    "    for x in ll:\n",
    "        if x not in allkeys:\n",
    "            allkeys.append(x)"
   ]
  },
  {
   "cell_type": "markdown",
   "metadata": {},
   "source": [
    "# tables: dead"
   ]
  },
  {
   "cell_type": "markdown",
   "metadata": {},
   "source": [
    "remarks:\n",
    "* 1st column: rank (-2 weeks, -4 weeks)\n",
    "* **d(k)**: total dead (in thousands)\n",
    "* **dd(k)**: last weeks increase in dead (in thousands) \n",
    "* **d /1k**: total dead per population (per thousand)\n",
    "* **dd /1m**: last weeks increase of dead per population (per million)\n",
    "* **r(%)**: ratechange - relative change of new dead last week vs. the week before"
   ]
  },
  {
   "cell_type": "code",
   "execution_count": null,
   "metadata": {
    "scrolled": false
   },
   "outputs": [],
   "source": [
    "dead_table = lambda sk :  ct.get_rank_table_from_df2(mt,mt2,mt4\n",
    "        , sk,\n",
    "        ['dead', 'dead_delta','dead_perpop', 'dead_delta_perpop', 'dead_ratechange'], \n",
    "        [1/1000,1/1000,1e6, 1e6,100],\n",
    "        columnalias=['d(k)','dd(k)','d /1m', 'dd /1m', 'r(%)'],\n",
    "         ascending=False, mininf=tablesmininf,\n",
    "         num=tablesnum)\n",
    "\n",
    "#for sk in ['dead', 'dead_delta', 'dead_perpop','dead_delta_perpop']:\n",
    "for sk in ['dead_perpop','dead_delta_perpop']:\n",
    "    \n",
    "    display(Markdown(\"## %s week ending %s\"%(sk,lastdayasstr)))\n",
    "    display(Markdown(dead_table(sk)))\n",
    "    ll = ct.sort_df_and_get_keys(mt[mt['cases']>tablesmininf],sk,num=tablesnum)\n",
    "    for x in ll:\n",
    "        if x not in allkeys:\n",
    "            allkeys.append(x)\n"
   ]
  },
  {
   "cell_type": "markdown",
   "metadata": {},
   "source": [
    "# continents"
   ]
  },
  {
   "cell_type": "code",
   "execution_count": null,
   "metadata": {},
   "outputs": [],
   "source": [
    "if geopandasplot:\n",
    "    newcolumn = 'weeklycasesper1m'\n",
    "    mtcolumn = 'cases_delta_perpop'\n",
    "    modfactor = 1e6\n",
    "\n",
    "    world['mtknown']=False\n",
    "    world[newcolumn] = 0    \n",
    "    # add some info to the world geopandas dataframe for plotting colored maps\n",
    "    for key in mt['iso3'].to_list():\n",
    "        if key in world['ISO_A3'].to_list():\n",
    "            indx = world.loc[lambda df: df['ISO_A3']==key].index[0]\n",
    "            newval = mt.loc[lambda df:df['iso3']==key][mtcolumn].to_numpy()[0] * modfactor\n",
    "            contval = mt.loc[lambda df:df['iso3']==key]['continent'].to_numpy()[0]\n",
    "            world.at[indx,newcolumn] = newval\n",
    "            world.at[indx,'continent'] = contval\n",
    "            world.at[indx,'mtknown'] = True\n",
    "        else:\n",
    "            pass#print('%s not in keys'%key)\n",
    "     \n",
    "\n"
   ]
  },
  {
   "cell_type": "code",
   "execution_count": null,
   "metadata": {
    "scrolled": false
   },
   "outputs": [],
   "source": [
    "for k in ct.list_continents:\n",
    "    display(Markdown(\"\\n\\n### %s\"%k))\n",
    "    if geopandasplot:\n",
    "        fig = plt.figure(dpi=100, figsize=(7,6))\n",
    "        ax = plt.subplot(111)\n",
    "        if k !='World':\n",
    "            cont = k.lower()\n",
    "            contdf =  world[world['continent']==cont]\n",
    "            fig = plt.figure(dpi=100)\n",
    "            divider = make_axes_locatable(ax)\n",
    "            cax = divider.append_axes(\"right\", size=\"2%\", pad=0.1)\n",
    "            ax =contdf.plot(newcolumn, ax=ax,vmin = 0,legend=True,cax=cax,cmap='inferno_r')\n",
    "            ax.set_xlim(contxylim[cont][0:2])\n",
    "            ax.set_ylim(contxylim[cont][2:4])\n",
    "        else:\n",
    "            contdf =  world[world['mtknown']==True]\n",
    "            divider = make_axes_locatable(ax)\n",
    "            cax = divider.append_axes(\"right\", size=\"2%\", pad=0.1)\n",
    "            ax =contdf.plot(newcolumn, ax=ax,vmin = 0,legend=True,cax=cax,cmap='inferno_r')\n",
    "            ax.set_ylim([-70,70])\n",
    "            ax.set_xticks([])\n",
    "            ax.set_yticks([])\n",
    "        ax2 = world.boundary.plot(ax = ax,lw=0.2,)\n",
    "        ax.set_title('weekly new cases per 1 m %s'%lastdayasstr)\n",
    "        ax.set_xticks([])\n",
    "        ax.set_yticks([])\n",
    "        plt.show()\n",
    "        \n",
    "    if plotswcont:\n",
    "        f, ax1, ax2 = ct.plot_rates(MDlist[0], MDlist[1], k)\n",
    "        plt.show()\n",
    "        \n",
    "\n",
    "    display(Markdown(ct.get_country_weekly_stat_table(MDlist, pops, k, tableformat='github')))"
   ]
  },
  {
   "cell_type": "code",
   "execution_count": null,
   "metadata": {
    "scrolled": false
   },
   "outputs": [],
   "source": [
    "# show countries which have higher infection rates per population than 80% of the considered countries\n",
    "mtB = mt[mt['cases']>tablesmininf]\n",
    "qt = np.quantile(mtB['cases_delta_perpop'].to_numpy(),0.8)\n",
    "mtC = mtB[mtB['cases_delta_perpop']>qt]\n",
    "mtD = mtC.sort_values(by='key')\n",
    "len(mtC['key'])\n",
    "\n",
    "severekeys = mtD['key'].to_list()\n",
    "\n",
    "display(Markdown('# countries > %d cases and > %.1f new cases per million last week'%(tablesmininf, qt*1e6)))\n",
    "\n",
    "for k in severekeys:\n",
    "    display(Markdown(\"\\n\\n### %s\"%k))\n",
    "    if plotsw:\n",
    "        f, ax1, ax2 = ct.plot_rates(MDlist[0], MDlist[1], k)\n",
    "        plt.show()\n",
    "    display(Markdown(ct.get_country_weekly_stat_table(MDlist, pops, k, tableformat='github')))\n"
   ]
  },
  {
   "cell_type": "markdown",
   "metadata": {},
   "source": [
    "# additional countries\n"
   ]
  },
  {
   "cell_type": "code",
   "execution_count": null,
   "metadata": {
    "scrolled": false
   },
   "outputs": [],
   "source": [
    "for k in speciallist:\n",
    "    if k not in allkeys:\n",
    "        allkeys.append(k)\n",
    "\n",
    "allkeys.sort()\n",
    "speciallist.sort()\n",
    "for k in speciallist:\n",
    "    display(Markdown(\"\\n\\n### %s\"%k))\n",
    "    if plotsw:\n",
    "        f, ax1, ax2 = ct.plot_rates(MDlist[0], MDlist[1], k)\n",
    "        plt.show()\n",
    "    display(Markdown(ct.get_country_weekly_stat_table(MDlist, pops, k, tableformat='github')))"
   ]
  },
  {
   "cell_type": "code",
   "execution_count": null,
   "metadata": {},
   "outputs": [],
   "source": []
  }
 ],
 "metadata": {
  "kernelspec": {
   "display_name": "Python 3",
   "language": "python",
   "name": "python3"
  },
  "language_info": {
   "codemirror_mode": {
    "name": "ipython",
    "version": 3
   },
   "file_extension": ".py",
   "mimetype": "text/x-python",
   "name": "python",
   "nbconvert_exporter": "python",
   "pygments_lexer": "ipython3",
   "version": "3.8.5"
  }
 },
 "nbformat": 4,
 "nbformat_minor": 2
}
