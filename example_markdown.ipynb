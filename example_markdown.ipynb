{
 "cells": [
  {
   "cell_type": "code",
   "execution_count": null,
   "metadata": {},
   "outputs": [],
   "source": [
    "import numpy as np\n",
    "from matplotlib import pyplot as plt\n",
    "#%matplotlib notebook\n",
    "%matplotlib inline\n",
    "import datetime as dt\n",
    "from matplotlib import dates as mdates\n",
    "import matplotlib\n",
    "import pandas as pd\n",
    "import corotools as ct\n",
    "from IPython.display import display, Markdown\n",
    "\n",
    "import os\n",
    "\n",
    "\n",
    "population_file = os.environ['COVID19_SCRIPT_POPFILE']\n",
    "jhu_data_dir = os.environ['COVID19_JHU_DIR']\n",
    "\n",
    "\n",
    "import warnings\n",
    "warnings.filterwarnings('ignore')"
   ]
  },
  {
   "cell_type": "code",
   "execution_count": null,
   "metadata": {
    "scrolled": false
   },
   "outputs": [],
   "source": [
    "\n",
    "pops = ct.get_populations('~/Daten/worldpop.csv')\n",
    "MDlist = ct.get_jhu_data(datadir = jhu_data_dir)\n",
    "Md = MDlist[0].copy()\n",
    "lastday = dt.datetime(*[int(x) for x in Md['US'][-1,0:3]])\n",
    "lastdayasstr = lastday.strftime(\"%a, %d.%m.%Y\")\n",
    "\n",
    "metat = ct.get_metatable(MDlist, pops, [x for x in Md.keys()], ignorelist=ct.list_continents)\n",
    "mt, mt2, mt4 = ct.get_metatable124(MDlist, pops, [x for x in Md.keys()], ignorelist=ct.list_continents)\n",
    "speciallist = []#['World','North America','South America','Europe','Asia','Africa']\n",
    "speciallist.sort()\n",
    "speciallist.append('Austria')\n",
    "speciallist.append('Czechia')\n",
    "speciallist.append('Germany')\n",
    "speciallist.append('Iran')\n",
    "speciallist.append('Israel')\n",
    "speciallist.append('Sweden')\n",
    "speciallist.append('Switzerland')\n",
    "speciallist.append('Turkey')\n",
    "\n",
    "\n",
    "plotsw = True\n",
    "\n",
    "\n"
   ]
  },
  {
   "cell_type": "markdown",
   "metadata": {},
   "source": [
    "sources for data\n",
    "* Johns-Hopkins-University [JHU github](https://github.com/CSSEGISandData/COVID-19)\n",
    "* [worldometers](https://www.worldometers.info) (populations)\n",
    "\n",
    "remarks:\n",
    "* due to strong daily fluctuations, my stats concentrate on weekly numbers/changes\n",
    "* some numbers from JHU are different to 'officially' reported ones (e.g. France) - take it with a grain of salt\n",
    "\n",
    "scripts for evaluation this data and creating this page:\n",
    "\n",
    "[xmhk/corotools](https://github.com/xmhk/corotools)"
   ]
  },
  {
   "cell_type": "markdown",
   "metadata": {},
   "source": [
    "# tables: cases"
   ]
  },
  {
   "cell_type": "markdown",
   "metadata": {},
   "source": [
    "remarks:\n",
    "* 1st column: rank (-2 weeks, -4 weeks)\n",
    "* **c(k)**: total cases (in thousand)\n",
    "* **dc(k)**: last weeks increase in cases (in thousand)\n",
    "* **c /1k**: total cases per population (per thousand)\n",
    "* **dc /1m**: last weeks increase of cases per population (per million)\n",
    "* **r(%)**: ratechange - relative change of cases last week vs. the week before"
   ]
  },
  {
   "cell_type": "code",
   "execution_count": null,
   "metadata": {
    "scrolled": false
   },
   "outputs": [],
   "source": [
    "tablesnum = 15\n",
    "tablesmininf = 2000\n",
    "allkeys=[]\n",
    "\n",
    "\n",
    "cases_table = lambda sk :  ct.get_rank_table_from_df2(\n",
    "        mt, mt2, mt4, sk,\n",
    "        ['cases', 'cases_delta','cases_perpop', 'cases_delta_perpop', 'cases_ratechange'], \n",
    "        [1/1000,1/1000,1e3, 1e6,100],\n",
    "        columnalias=['c(k)','dc(k)','c /1k', 'dc /1m', 'r(%)'],\n",
    "         ascending=False, mininf=tablesmininf,\n",
    "         num=tablesnum)\n",
    "\n",
    "for sk in ['cases', 'cases_delta', 'cases_perpop','cases_delta_perpop', 'cases_ratechange']:\n",
    "    display(Markdown(\"## %s week ending %s\"%(sk,lastdayasstr)))\n",
    "    if sk == 'cases_ratechange':\n",
    "        display(Markdown(\"remark: countries which had below %.0f cases two weeks ago are ranked at 200\"%tablesmininf))\n",
    "    display(Markdown(cases_table(sk)))\n",
    "    ll = ct.sort_df_and_get_keys(mt[mt['cases']>tablesmininf],sk,num=tablesnum)\n",
    "    for x in ll:\n",
    "        if x not in allkeys:\n",
    "            allkeys.append(x)"
   ]
  },
  {
   "cell_type": "markdown",
   "metadata": {},
   "source": [
    "# tables: dead"
   ]
  },
  {
   "cell_type": "markdown",
   "metadata": {},
   "source": [
    "remarks:\n",
    "* 1st column: rank (-2 weeks, -4 weeks)\n",
    "* **d(k)**: total dead (in thousand)\n",
    "* **dd(k)**: last weeks increase in dead (in thousand) \n",
    "* **d /1k**: total dead per population (per thousand)\n",
    "* **dd /1m**: last weeks increase of dead per population (per million)\n",
    "* **r(%)**: ratechange - relative change of dead last week vs. the week before"
   ]
  },
  {
   "cell_type": "code",
   "execution_count": null,
   "metadata": {
    "scrolled": false
   },
   "outputs": [],
   "source": [
    "    \n",
    "\n",
    "dead_table = lambda sk :  ct.get_rank_table_from_df2(mt,mt2,mt4\n",
    "        , sk,\n",
    "        ['dead', 'dead_delta','dead_perpop', 'dead_delta_perpop', 'dead_ratechange'], \n",
    "        [1/1000,1/1000,1e6, 1e6,100],\n",
    "        columnalias=['d(k)','dd(k)','d /1m', 'dd /1m', 'r(%)'],\n",
    "         ascending=False, mininf=tablesmininf,\n",
    "         num=tablesnum)\n",
    "\n",
    "for sk in ['dead', 'dead_delta', 'dead_perpop','dead_delta_perpop']:\n",
    "    display(Markdown(\"## %s %s\"%(sk,lastdayasstr)))\n",
    "    display(Markdown(dead_table(sk)))\n",
    "    ll = ct.sort_df_and_get_keys(mt[mt['cases']>tablesmininf],sk,num=tablesnum)\n",
    "    for x in ll:\n",
    "        if x not in allkeys:\n",
    "            allkeys.append(x)\n"
   ]
  },
  {
   "cell_type": "markdown",
   "metadata": {},
   "source": [
    "# continents"
   ]
  },
  {
   "cell_type": "code",
   "execution_count": null,
   "metadata": {
    "scrolled": false
   },
   "outputs": [],
   "source": [
    "for k in ct.list_continents:\n",
    "    display(Markdown(\"\\n\\n### %s\"%k))\n",
    "    if plotsw:\n",
    "        f, ax1, ax2 = ct.plot_rates(MDlist[0], MDlist[1], k)\n",
    "        plt.show()\n",
    "    display(Markdown(ct.get_country_weekly_stat_table(MDlist, pops, k, tableformat='github')))"
   ]
  },
  {
   "cell_type": "markdown",
   "metadata": {},
   "source": [
    "# countries listed in above tables\n"
   ]
  },
  {
   "cell_type": "code",
   "execution_count": null,
   "metadata": {
    "scrolled": false
   },
   "outputs": [],
   "source": [
    "for k in speciallist:\n",
    "    if k not in allkeys:\n",
    "        allkeys.append(k)\n",
    "\n",
    "allkeys.sort()\n",
    "\n",
    "for k in allkeys:\n",
    "    display(Markdown(\"\\n\\n### %s\"%k))\n",
    "    if plotsw:\n",
    "        f, ax1, ax2 = ct.plot_rates(MDlist[0], MDlist[1], k)\n",
    "        plt.show()\n",
    "    display(Markdown(ct.get_country_weekly_stat_table(MDlist, pops, k, tableformat='github')))"
   ]
  }
 ],
 "metadata": {
  "kernelspec": {
   "display_name": "Python 3",
   "language": "python",
   "name": "python3"
  },
  "language_info": {
   "codemirror_mode": {
    "name": "ipython",
    "version": 3
   },
   "file_extension": ".py",
   "mimetype": "text/x-python",
   "name": "python",
   "nbconvert_exporter": "python",
   "pygments_lexer": "ipython3",
   "version": "3.8.3"
  }
 },
 "nbformat": 4,
 "nbformat_minor": 2
}
